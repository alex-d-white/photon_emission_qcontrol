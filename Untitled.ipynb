{
 "cells": [
  {
   "cell_type": "code",
   "execution_count": 1,
   "metadata": {},
   "outputs": [],
   "source": [
    "%load_ext autoreload\n",
    "%autoreload 2\n",
    "import numpy as np\n",
    "import scipy.optimize\n",
    "from matplotlib import pyplot as plt\n",
    "\n",
    "import cavity_qed_systems\n",
    "import pulse\n",
    "import cmps_utils\n",
    "import tncontract as tn\n",
    "import parameterized_pulse as ppulse"
   ]
  },
  {
   "cell_type": "code",
   "execution_count": 2,
   "metadata": {},
   "outputs": [],
   "source": [
    "def optimize_overlap(state, target_mps, pulse):\n",
    "    \"\"\"Right now we assume that there is only one pulse.\"\"\"\n",
    "    def _obj_fun(x):\n",
    "        pulse.update(x)\n",
    "        olap = np.abs(state.get_inner_product(target_mps, [pulse]))**2\n",
    "        print(\"Current overlap = \", olap)\n",
    "        return -olap\n",
    "    \n",
    "    def _gradient(x):\n",
    "        pulse.update(x)\n",
    "        inner_prod = state.get_inner_product(target_mps, [pulse])\n",
    "        grad_inner_prod = state.get_inner_prod_gradient(\n",
    "            target_mps, [pulse])[0]\n",
    "        grad = -2 * pulse.get_gradient(state.times) @ np.real(\n",
    "            grad_inner_prod * np.conj(inner_prod))\n",
    "        #print(np.shape(grad))\n",
    "        return grad.astype(float)\n",
    "\n",
    "    print(pulse.bounds())\n",
    "    print(np.shape(pulse.state()))\n",
    "    scipy.optimize.minimize(\n",
    "        _obj_fun, pulse.state(), bounds=pulse.bounds(),jac=_gradient, method=\"L-BFGS-B\") # jac=_gradient,"
   ]
  },
  {
   "cell_type": "code",
   "execution_count": 3,
   "metadata": {},
   "outputs": [],
   "source": [
    "targetState = cavity_qed_systems.ModulatedTavisCumming(0.01, 2000, [0,0], 1.0, 1.0)\n",
    "targetMPS = targetState.get_mps([pulse.ConstantPulse(0)])"
   ]
  },
  {
   "cell_type": "code",
   "execution_count": 4,
   "metadata": {},
   "outputs": [
    {
     "name": "stdout",
     "output_type": "stream",
     "text": [
      "[[0. 0.]\n",
      " [0. 0.]\n",
      " [0. 0.]\n",
      " ...\n",
      " [0. 0.]\n",
      " [0. 0.]\n",
      " [0. 0.]]\n",
      "(1001,)\n",
      "Current overlap =  0.014866110483682558\n"
     ]
    },
    {
     "name": "stderr",
     "output_type": "stream",
     "text": [
      "<ipython-input-2-1df31013740c>:17: ComplexWarning: Casting complex values to real discards the imaginary part\n",
      "  return grad.astype(float)\n"
     ]
    },
    {
     "data": {
      "image/png": "[encoded data removed]",
      "text/plain": [
       "<Figure size 432x288 with 1 Axes>"
      ]
     },
     "metadata": {
      "needs_background": "light"
     },
     "output_type": "display_data"
    }
   ],
   "source": [
    "state = cavity_qed_systems.ModulatedTavisCumming(0.01, 2000, [0,4], 1.0, 1.0)\n",
    "delta = ppulse.DirectParameterizedPulse(10, 1000, [-0, 0])\n",
    "plt.plot(delta.state())\n",
    "optimize_overlap(state, targetMPS, delta)"
   ]
  },
  {
   "cell_type": "code",
   "execution_count": 6,
   "metadata": {},
   "outputs": [],
   "source": [
    "targetState = cavity_qed_systems.ModulatedTavisCumming(0.01, 2000, [0,0,0], 1.0, 1.0)\n",
    "targetMPS = targetState.get_mps([pulse.ConstantPulse(0)])"
   ]
  },
  {
   "cell_type": "code",
   "execution_count": 9,
   "metadata": {},
   "outputs": [
    {
     "name": "stdout",
     "output_type": "stream",
     "text": [
      "[[0. 0.]\n",
      " [0. 0.]\n",
      " [0. 0.]\n",
      " ...\n",
      " [0. 0.]\n",
      " [0. 0.]\n",
      " [0. 0.]]\n",
      "(1001,)\n",
      "Current overlap =  0.09325047560326115\n"
     ]
    },
    {
     "ename": "KeyboardInterrupt",
     "evalue": "",
     "output_type": "error",
     "traceback": [
      "\u001b[0;31m---------------------------------------------------------------------------\u001b[0m",
      "\u001b[0;31mKeyboardInterrupt\u001b[0m                         Traceback (most recent call last)",
      "\u001b[0;32m<ipython-input-9-1e6d71cadd61>\u001b[0m in \u001b[0;36m<module>\u001b[0;34m\u001b[0m\n\u001b[1;32m      2\u001b[0m \u001b[0mdelta\u001b[0m \u001b[0;34m=\u001b[0m \u001b[0mppulse\u001b[0m\u001b[0;34m.\u001b[0m\u001b[0mDirectParameterizedPulse\u001b[0m\u001b[0;34m(\u001b[0m\u001b[0;36m10\u001b[0m\u001b[0;34m,\u001b[0m \u001b[0;36m1000\u001b[0m\u001b[0;34m,\u001b[0m \u001b[0;34m[\u001b[0m\u001b[0;34m-\u001b[0m\u001b[0;36m0\u001b[0m\u001b[0;34m,\u001b[0m \u001b[0;36m0\u001b[0m\u001b[0;34m]\u001b[0m\u001b[0;34m)\u001b[0m\u001b[0;34m\u001b[0m\u001b[0;34m\u001b[0m\u001b[0m\n\u001b[1;32m      3\u001b[0m \u001b[0mplt\u001b[0m\u001b[0;34m.\u001b[0m\u001b[0mplot\u001b[0m\u001b[0;34m(\u001b[0m\u001b[0mdelta\u001b[0m\u001b[0;34m.\u001b[0m\u001b[0mstate\u001b[0m\u001b[0;34m(\u001b[0m\u001b[0;34m)\u001b[0m\u001b[0;34m)\u001b[0m\u001b[0;34m\u001b[0m\u001b[0;34m\u001b[0m\u001b[0m\n\u001b[0;32m----> 4\u001b[0;31m \u001b[0moptimize_overlap\u001b[0m\u001b[0;34m(\u001b[0m\u001b[0mstate\u001b[0m\u001b[0;34m,\u001b[0m \u001b[0mtargetMPS\u001b[0m\u001b[0;34m,\u001b[0m \u001b[0mdelta\u001b[0m\u001b[0;34m)\u001b[0m\u001b[0;34m\u001b[0m\u001b[0;34m\u001b[0m\u001b[0m\n\u001b[0m",
      "\u001b[0;32m<ipython-input-2-1df31013740c>\u001b[0m in \u001b[0;36moptimize_overlap\u001b[0;34m(state, target_mps, pulse)\u001b[0m\n\u001b[1;32m     19\u001b[0m     \u001b[0mprint\u001b[0m\u001b[0;34m(\u001b[0m\u001b[0mpulse\u001b[0m\u001b[0;34m.\u001b[0m\u001b[0mbounds\u001b[0m\u001b[0;34m(\u001b[0m\u001b[0;34m)\u001b[0m\u001b[0;34m)\u001b[0m\u001b[0;34m\u001b[0m\u001b[0;34m\u001b[0m\u001b[0m\n\u001b[1;32m     20\u001b[0m     \u001b[0mprint\u001b[0m\u001b[0;34m(\u001b[0m\u001b[0mnp\u001b[0m\u001b[0;34m.\u001b[0m\u001b[0mshape\u001b[0m\u001b[0;34m(\u001b[0m\u001b[0mpulse\u001b[0m\u001b[0;34m.\u001b[0m\u001b[0mstate\u001b[0m\u001b[0;34m(\u001b[0m\u001b[0;34m)\u001b[0m\u001b[0;34m)\u001b[0m\u001b[0;34m)\u001b[0m\u001b[0;34m\u001b[0m\u001b[0;34m\u001b[0m\u001b[0m\n\u001b[0;32m---> 21\u001b[0;31m     scipy.optimize.minimize(\n\u001b[0m\u001b[1;32m     22\u001b[0m         _obj_fun, pulse.state(), bounds=pulse.bounds(),jac=_gradient, method=\"L-BFGS-B\") # jac=_gradient,\n",
      "\u001b[0;32m~/anaconda3/lib/python3.8/site-packages/scipy/optimize/_minimize.py\u001b[0m in \u001b[0;36mminimize\u001b[0;34m(fun, x0, args, method, jac, hess, hessp, bounds, constraints, tol, callback, options)\u001b[0m\n\u001b[1;32m    615\u001b[0m                                   **options)\n\u001b[1;32m    616\u001b[0m     \u001b[0;32melif\u001b[0m \u001b[0mmeth\u001b[0m \u001b[0;34m==\u001b[0m \u001b[0;34m'l-bfgs-b'\u001b[0m\u001b[0;34m:\u001b[0m\u001b[0;34m\u001b[0m\u001b[0;34m\u001b[0m\u001b[0m\n\u001b[0;32m--> 617\u001b[0;31m         return _minimize_lbfgsb(fun, x0, args, jac, bounds,\n\u001b[0m\u001b[1;32m    618\u001b[0m                                 callback=callback, **options)\n\u001b[1;32m    619\u001b[0m     \u001b[0;32melif\u001b[0m \u001b[0mmeth\u001b[0m \u001b[0;34m==\u001b[0m \u001b[0;34m'tnc'\u001b[0m\u001b[0;34m:\u001b[0m\u001b[0;34m\u001b[0m\u001b[0;34m\u001b[0m\u001b[0m\n",
      "\u001b[0;32m~/anaconda3/lib/python3.8/site-packages/scipy/optimize/lbfgsb.py\u001b[0m in \u001b[0;36m_minimize_lbfgsb\u001b[0;34m(fun, x0, args, jac, bounds, disp, maxcor, ftol, gtol, eps, maxfun, maxiter, iprint, callback, maxls, finite_diff_rel_step, **unknown_options)\u001b[0m\n\u001b[1;32m    304\u001b[0m             \u001b[0miprint\u001b[0m \u001b[0;34m=\u001b[0m \u001b[0mdisp\u001b[0m\u001b[0;34m\u001b[0m\u001b[0;34m\u001b[0m\u001b[0m\n\u001b[1;32m    305\u001b[0m \u001b[0;34m\u001b[0m\u001b[0m\n\u001b[0;32m--> 306\u001b[0;31m     sf = _prepare_scalar_function(fun, x0, jac=jac, args=args, epsilon=eps,\n\u001b[0m\u001b[1;32m    307\u001b[0m                                   \u001b[0mbounds\u001b[0m\u001b[0;34m=\u001b[0m\u001b[0mnew_bounds\u001b[0m\u001b[0;34m,\u001b[0m\u001b[0;34m\u001b[0m\u001b[0;34m\u001b[0m\u001b[0m\n\u001b[1;32m    308\u001b[0m                                   finite_diff_rel_step=finite_diff_rel_step)\n",
      "\u001b[0;32m~/anaconda3/lib/python3.8/site-packages/scipy/optimize/optimize.py\u001b[0m in \u001b[0;36m_prepare_scalar_function\u001b[0;34m(fun, x0, jac, args, bounds, epsilon, finite_diff_rel_step, hess)\u001b[0m\n\u001b[1;32m    259\u001b[0m     \u001b[0;31m# ScalarFunction caches. Reuse of fun(x) during grad\u001b[0m\u001b[0;34m\u001b[0m\u001b[0;34m\u001b[0m\u001b[0;34m\u001b[0m\u001b[0m\n\u001b[1;32m    260\u001b[0m     \u001b[0;31m# calculation reduces overall function evaluations.\u001b[0m\u001b[0;34m\u001b[0m\u001b[0;34m\u001b[0m\u001b[0;34m\u001b[0m\u001b[0m\n\u001b[0;32m--> 261\u001b[0;31m     sf = ScalarFunction(fun, x0, args, grad, hess,\n\u001b[0m\u001b[1;32m    262\u001b[0m                         finite_diff_rel_step, bounds, epsilon=epsilon)\n\u001b[1;32m    263\u001b[0m \u001b[0;34m\u001b[0m\u001b[0m\n",
      "\u001b[0;32m~/anaconda3/lib/python3.8/site-packages/scipy/optimize/_differentiable_functions.py\u001b[0m in \u001b[0;36m__init__\u001b[0;34m(self, fun, x0, args, grad, hess, finite_diff_rel_step, finite_diff_bounds, epsilon)\u001b[0m\n\u001b[1;32m     93\u001b[0m \u001b[0;34m\u001b[0m\u001b[0m\n\u001b[1;32m     94\u001b[0m         \u001b[0mself\u001b[0m\u001b[0;34m.\u001b[0m\u001b[0m_update_grad_impl\u001b[0m \u001b[0;34m=\u001b[0m \u001b[0mupdate_grad\u001b[0m\u001b[0;34m\u001b[0m\u001b[0;34m\u001b[0m\u001b[0m\n\u001b[0;32m---> 95\u001b[0;31m         \u001b[0mself\u001b[0m\u001b[0;34m.\u001b[0m\u001b[0m_update_grad\u001b[0m\u001b[0;34m(\u001b[0m\u001b[0;34m)\u001b[0m\u001b[0;34m\u001b[0m\u001b[0;34m\u001b[0m\u001b[0m\n\u001b[0m\u001b[1;32m     96\u001b[0m \u001b[0;34m\u001b[0m\u001b[0m\n\u001b[1;32m     97\u001b[0m         \u001b[0;31m# Hessian Evaluation\u001b[0m\u001b[0;34m\u001b[0m\u001b[0;34m\u001b[0m\u001b[0;34m\u001b[0m\u001b[0m\n",
      "\u001b[0;32m~/anaconda3/lib/python3.8/site-packages/scipy/optimize/_differentiable_functions.py\u001b[0m in \u001b[0;36m_update_grad\u001b[0;34m(self)\u001b[0m\n\u001b[1;32m    169\u001b[0m     \u001b[0;32mdef\u001b[0m \u001b[0m_update_grad\u001b[0m\u001b[0;34m(\u001b[0m\u001b[0mself\u001b[0m\u001b[0;34m)\u001b[0m\u001b[0;34m:\u001b[0m\u001b[0;34m\u001b[0m\u001b[0;34m\u001b[0m\u001b[0m\n\u001b[1;32m    170\u001b[0m         \u001b[0;32mif\u001b[0m \u001b[0;32mnot\u001b[0m \u001b[0mself\u001b[0m\u001b[0;34m.\u001b[0m\u001b[0mg_updated\u001b[0m\u001b[0;34m:\u001b[0m\u001b[0;34m\u001b[0m\u001b[0;34m\u001b[0m\u001b[0m\n\u001b[0;32m--> 171\u001b[0;31m             \u001b[0mself\u001b[0m\u001b[0;34m.\u001b[0m\u001b[0m_update_grad_impl\u001b[0m\u001b[0;34m(\u001b[0m\u001b[0;34m)\u001b[0m\u001b[0;34m\u001b[0m\u001b[0;34m\u001b[0m\u001b[0m\n\u001b[0m\u001b[1;32m    172\u001b[0m             \u001b[0mself\u001b[0m\u001b[0;34m.\u001b[0m\u001b[0mg_updated\u001b[0m \u001b[0;34m=\u001b[0m \u001b[0;32mTrue\u001b[0m\u001b[0;34m\u001b[0m\u001b[0;34m\u001b[0m\u001b[0m\n\u001b[1;32m    173\u001b[0m \u001b[0;34m\u001b[0m\u001b[0m\n",
      "\u001b[0;32m~/anaconda3/lib/python3.8/site-packages/scipy/optimize/_differentiable_functions.py\u001b[0m in \u001b[0;36mupdate_grad\u001b[0;34m()\u001b[0m\n\u001b[1;32m     83\u001b[0m \u001b[0;34m\u001b[0m\u001b[0m\n\u001b[1;32m     84\u001b[0m             \u001b[0;32mdef\u001b[0m \u001b[0mupdate_grad\u001b[0m\u001b[0;34m(\u001b[0m\u001b[0;34m)\u001b[0m\u001b[0;34m:\u001b[0m\u001b[0;34m\u001b[0m\u001b[0;34m\u001b[0m\u001b[0m\n\u001b[0;32m---> 85\u001b[0;31m                 \u001b[0mself\u001b[0m\u001b[0;34m.\u001b[0m\u001b[0mg\u001b[0m \u001b[0;34m=\u001b[0m \u001b[0mgrad_wrapped\u001b[0m\u001b[0;34m(\u001b[0m\u001b[0mself\u001b[0m\u001b[0;34m.\u001b[0m\u001b[0mx\u001b[0m\u001b[0;34m)\u001b[0m\u001b[0;34m\u001b[0m\u001b[0;34m\u001b[0m\u001b[0m\n\u001b[0m\u001b[1;32m     86\u001b[0m \u001b[0;34m\u001b[0m\u001b[0m\n\u001b[1;32m     87\u001b[0m         \u001b[0;32melif\u001b[0m \u001b[0mgrad\u001b[0m \u001b[0;32min\u001b[0m \u001b[0mFD_METHODS\u001b[0m\u001b[0;34m:\u001b[0m\u001b[0;34m\u001b[0m\u001b[0;34m\u001b[0m\u001b[0m\n",
      "\u001b[0;32m~/anaconda3/lib/python3.8/site-packages/scipy/optimize/_differentiable_functions.py\u001b[0m in \u001b[0;36mgrad_wrapped\u001b[0;34m(x)\u001b[0m\n\u001b[1;32m     80\u001b[0m             \u001b[0;32mdef\u001b[0m \u001b[0mgrad_wrapped\u001b[0m\u001b[0;34m(\u001b[0m\u001b[0mx\u001b[0m\u001b[0;34m)\u001b[0m\u001b[0;34m:\u001b[0m\u001b[0;34m\u001b[0m\u001b[0;34m\u001b[0m\u001b[0m\n\u001b[1;32m     81\u001b[0m                 \u001b[0mself\u001b[0m\u001b[0;34m.\u001b[0m\u001b[0mngev\u001b[0m \u001b[0;34m+=\u001b[0m \u001b[0;36m1\u001b[0m\u001b[0;34m\u001b[0m\u001b[0;34m\u001b[0m\u001b[0m\n\u001b[0;32m---> 82\u001b[0;31m                 \u001b[0;32mreturn\u001b[0m \u001b[0mnp\u001b[0m\u001b[0;34m.\u001b[0m\u001b[0matleast_1d\u001b[0m\u001b[0;34m(\u001b[0m\u001b[0mgrad\u001b[0m\u001b[0;34m(\u001b[0m\u001b[0mx\u001b[0m\u001b[0;34m,\u001b[0m \u001b[0;34m*\u001b[0m\u001b[0margs\u001b[0m\u001b[0;34m)\u001b[0m\u001b[0;34m)\u001b[0m\u001b[0;34m\u001b[0m\u001b[0;34m\u001b[0m\u001b[0m\n\u001b[0m\u001b[1;32m     83\u001b[0m \u001b[0;34m\u001b[0m\u001b[0m\n\u001b[1;32m     84\u001b[0m             \u001b[0;32mdef\u001b[0m \u001b[0mupdate_grad\u001b[0m\u001b[0;34m(\u001b[0m\u001b[0;34m)\u001b[0m\u001b[0;34m:\u001b[0m\u001b[0;34m\u001b[0m\u001b[0;34m\u001b[0m\u001b[0m\n",
      "\u001b[0;32m<ipython-input-2-1df31013740c>\u001b[0m in \u001b[0;36m_gradient\u001b[0;34m(x)\u001b[0m\n\u001b[1;32m     10\u001b[0m         \u001b[0mpulse\u001b[0m\u001b[0;34m.\u001b[0m\u001b[0mupdate\u001b[0m\u001b[0;34m(\u001b[0m\u001b[0mx\u001b[0m\u001b[0;34m)\u001b[0m\u001b[0;34m\u001b[0m\u001b[0;34m\u001b[0m\u001b[0m\n\u001b[1;32m     11\u001b[0m         \u001b[0minner_prod\u001b[0m \u001b[0;34m=\u001b[0m \u001b[0mstate\u001b[0m\u001b[0;34m.\u001b[0m\u001b[0mget_inner_product\u001b[0m\u001b[0;34m(\u001b[0m\u001b[0mtarget_mps\u001b[0m\u001b[0;34m,\u001b[0m \u001b[0;34m[\u001b[0m\u001b[0mpulse\u001b[0m\u001b[0;34m]\u001b[0m\u001b[0;34m)\u001b[0m\u001b[0;34m\u001b[0m\u001b[0;34m\u001b[0m\u001b[0m\n\u001b[0;32m---> 12\u001b[0;31m         grad_inner_prod = state.get_inner_prod_gradient(\n\u001b[0m\u001b[1;32m     13\u001b[0m             target_mps, [pulse])[0]\n\u001b[1;32m     14\u001b[0m         grad = -2 * pulse.get_gradient(state.times) @ np.real(\n",
      "\u001b[0;32m~/Documents/Python_dir/photon_emission_qcontrol/oqs_emission_mps.py\u001b[0m in \u001b[0;36mget_inner_prod_gradient\u001b[0;34m(self, target_state, pulses)\u001b[0m\n\u001b[1;32m    255\u001b[0m         \u001b[0mmps_state\u001b[0m \u001b[0;34m=\u001b[0m \u001b[0mself\u001b[0m\u001b[0;34m.\u001b[0m\u001b[0mget_mps\u001b[0m\u001b[0;34m(\u001b[0m\u001b[0mpulses\u001b[0m\u001b[0;34m)\u001b[0m\u001b[0;34m\u001b[0m\u001b[0;34m\u001b[0m\u001b[0m\n\u001b[1;32m    256\u001b[0m         \u001b[0;31m# Get the individual transfer matrices.\u001b[0m\u001b[0;34m\u001b[0m\u001b[0;34m\u001b[0m\u001b[0;34m\u001b[0m\u001b[0m\n\u001b[0;32m--> 257\u001b[0;31m         \u001b[0mtransfer_matrices\u001b[0m \u001b[0;34m=\u001b[0m \u001b[0m_get_transfer_matrix_list\u001b[0m\u001b[0;34m(\u001b[0m\u001b[0mtarget_state\u001b[0m\u001b[0;34m,\u001b[0m \u001b[0mmps_state\u001b[0m\u001b[0;34m)\u001b[0m\u001b[0;34m\u001b[0m\u001b[0;34m\u001b[0m\u001b[0m\n\u001b[0m\u001b[1;32m    258\u001b[0m         \u001b[0;31m# For computing the inner product efficiently, we need to setup the\u001b[0m\u001b[0;34m\u001b[0m\u001b[0;34m\u001b[0m\u001b[0;34m\u001b[0m\u001b[0m\n\u001b[1;32m    259\u001b[0m         \u001b[0;31m# cascaded transfer matrices corresponding to the MPS state.\u001b[0m\u001b[0;34m\u001b[0m\u001b[0;34m\u001b[0m\u001b[0;34m\u001b[0m\u001b[0m\n",
      "\u001b[0;32m~/Documents/Python_dir/photon_emission_qcontrol/oqs_emission_mps.py\u001b[0m in \u001b[0;36m_get_transfer_matrix_list\u001b[0;34m(left_mps, right_mps)\u001b[0m\n\u001b[1;32m     22\u001b[0m                                right_tensor[:, :, i])\n\u001b[1;32m     23\u001b[0m                        for i in range(left_tensor.shape[-1])]\n\u001b[0;32m---> 24\u001b[0;31m         \u001b[0mtransfer_matrices\u001b[0m\u001b[0;34m.\u001b[0m\u001b[0mappend\u001b[0m\u001b[0;34m(\u001b[0m\u001b[0mnp\u001b[0m\u001b[0;34m.\u001b[0m\u001b[0msum\u001b[0m\u001b[0;34m(\u001b[0m\u001b[0mtensor_prod\u001b[0m\u001b[0;34m,\u001b[0m \u001b[0maxis\u001b[0m\u001b[0;34m=\u001b[0m\u001b[0;36m0\u001b[0m\u001b[0;34m)\u001b[0m\u001b[0;34m)\u001b[0m\u001b[0;34m\u001b[0m\u001b[0;34m\u001b[0m\u001b[0m\n\u001b[0m\u001b[1;32m     25\u001b[0m \u001b[0;34m\u001b[0m\u001b[0m\n\u001b[1;32m     26\u001b[0m     \u001b[0;32mreturn\u001b[0m \u001b[0mtransfer_matrices\u001b[0m\u001b[0;34m\u001b[0m\u001b[0;34m\u001b[0m\u001b[0m\n",
      "\u001b[0;32m<__array_function__ internals>\u001b[0m in \u001b[0;36msum\u001b[0;34m(*args, **kwargs)\u001b[0m\n",
      "\u001b[0;32m~/anaconda3/lib/python3.8/site-packages/numpy/core/fromnumeric.py\u001b[0m in \u001b[0;36msum\u001b[0;34m(a, axis, dtype, out, keepdims, initial, where)\u001b[0m\n\u001b[1;32m   2226\u001b[0m         \u001b[0;32mreturn\u001b[0m \u001b[0mres\u001b[0m\u001b[0;34m\u001b[0m\u001b[0;34m\u001b[0m\u001b[0m\n\u001b[1;32m   2227\u001b[0m \u001b[0;34m\u001b[0m\u001b[0m\n\u001b[0;32m-> 2228\u001b[0;31m     return _wrapreduction(a, np.add, 'sum', axis, dtype, out, keepdims=keepdims,\n\u001b[0m\u001b[1;32m   2229\u001b[0m                           initial=initial, where=where)\n\u001b[1;32m   2230\u001b[0m \u001b[0;34m\u001b[0m\u001b[0m\n",
      "\u001b[0;32m~/anaconda3/lib/python3.8/site-packages/numpy/core/fromnumeric.py\u001b[0m in \u001b[0;36m_wrapreduction\u001b[0;34m(obj, ufunc, method, axis, dtype, out, **kwargs)\u001b[0m\n\u001b[1;32m     88\u001b[0m                 \u001b[0;32mreturn\u001b[0m \u001b[0mreduction\u001b[0m\u001b[0;34m(\u001b[0m\u001b[0maxis\u001b[0m\u001b[0;34m=\u001b[0m\u001b[0maxis\u001b[0m\u001b[0;34m,\u001b[0m \u001b[0mout\u001b[0m\u001b[0;34m=\u001b[0m\u001b[0mout\u001b[0m\u001b[0;34m,\u001b[0m \u001b[0;34m**\u001b[0m\u001b[0mpasskwargs\u001b[0m\u001b[0;34m)\u001b[0m\u001b[0;34m\u001b[0m\u001b[0;34m\u001b[0m\u001b[0m\n\u001b[1;32m     89\u001b[0m \u001b[0;34m\u001b[0m\u001b[0m\n\u001b[0;32m---> 90\u001b[0;31m     \u001b[0;32mreturn\u001b[0m \u001b[0mufunc\u001b[0m\u001b[0;34m.\u001b[0m\u001b[0mreduce\u001b[0m\u001b[0;34m(\u001b[0m\u001b[0mobj\u001b[0m\u001b[0;34m,\u001b[0m \u001b[0maxis\u001b[0m\u001b[0;34m,\u001b[0m \u001b[0mdtype\u001b[0m\u001b[0;34m,\u001b[0m \u001b[0mout\u001b[0m\u001b[0;34m,\u001b[0m \u001b[0;34m**\u001b[0m\u001b[0mpasskwargs\u001b[0m\u001b[0;34m)\u001b[0m\u001b[0;34m\u001b[0m\u001b[0;34m\u001b[0m\u001b[0m\n\u001b[0m\u001b[1;32m     91\u001b[0m \u001b[0;34m\u001b[0m\u001b[0m\n\u001b[1;32m     92\u001b[0m \u001b[0;34m\u001b[0m\u001b[0m\n",
      "\u001b[0;31mKeyboardInterrupt\u001b[0m: "
     ]
    },
    {
     "data": {
      "image/png": "[encoded data removed]",
      "text/plain": [
       "<Figure size 432x288 with 1 Axes>"
      ]
     },
     "metadata": {
      "needs_background": "light"
     },
     "output_type": "display_data"
    }
   ],
   "source": [
    "state = cavity_qed_systems.ModulatedTavisCumming(0.01, 2000, [0,1,-1.632], 1.0, 1.0)\n",
    "delta = ppulse.DirectParameterizedPulse(10, 1000, [-0, 0])\n",
    "plt.plot(delta.state())\n",
    "optimize_overlap(state, targetMPS, delta)"
   ]
  },
  {
   "cell_type": "code",
   "execution_count": null,
   "metadata": {},
   "outputs": [
    {
     "name": "stdout",
     "output_type": "stream",
     "text": [
      "[[-4.  4.]\n",
      " [-4.  4.]\n",
      " [-4.  4.]\n",
      " ...\n",
      " [-4.  4.]\n",
      " [-4.  4.]\n",
      " [-4.  4.]]\n",
      "(1001,)\n",
      "Current overlap =  0.058700158443902466\n"
     ]
    },
    {
     "name": "stderr",
     "output_type": "stream",
     "text": [
      "<ipython-input-2-1df31013740c>:17: ComplexWarning: Casting complex values to real discards the imaginary part\n",
      "  return grad.astype(float)\n"
     ]
    },
    {
     "name": "stdout",
     "output_type": "stream",
     "text": [
      "Current overlap =  0.05878764368795097\n",
      "Current overlap =  0.05887525464219782\n",
      "Current overlap =  0.059226320455006344\n",
      "Current overlap =  0.06064044111672675\n",
      "Current overlap =  0.062038284803512485\n",
      "Current overlap =  0.06213044072407883\n",
      "Current overlap =  0.062499721159049816\n",
      "Current overlap =  0.06398724493078393\n",
      "Current overlap =  0.06456035742203314\n",
      "Current overlap =  0.06465559121071526\n",
      "Current overlap =  0.06503719425940335\n",
      "Current overlap =  0.06657417691366524\n",
      "Current overlap =  0.0728834186165606\n",
      "Current overlap =  0.07627852817537008\n",
      "Current overlap =  0.07638958517551794\n",
      "Current overlap =  0.0768345996185107\n",
      "Current overlap =  0.07862706990179616\n",
      "Current overlap =  0.07946991187040035\n",
      "Current overlap =  0.0795855055783202\n",
      "Current overlap =  0.08004870237637675\n",
      "Current overlap =  0.08049081376699757\n",
      "Current overlap =  0.08060786938485667\n",
      "Current overlap =  0.0810769249803071\n",
      "Current overlap =  0.08145134870663505\n",
      "Current overlap =  0.08156973388163272\n",
      "Current overlap =  0.08204411841022459\n",
      "Current overlap =  0.0839549552477124\n",
      "Current overlap =  0.08450185888012075\n",
      "Current overlap =  0.08462458382693029\n",
      "Current overlap =  0.08476126095807358\n",
      "Current overlap =  0.0848842303650423\n",
      "Current overlap =  0.08537698587999372\n",
      "Current overlap =  0.08736182883967203\n",
      "Current overlap =  0.09550712603689356\n",
      "Current overlap =  0.0976726884398312\n",
      "Current overlap =  0.09781180949949313\n",
      "Current overlap =  0.09795069302470613\n",
      "Current overlap =  0.09850716219691974\n",
      "Current overlap =  0.10074767333071123\n",
      "Current overlap =  0.10992192975463201\n",
      "Current overlap =  0.11073305194277154\n",
      "Current overlap =  0.11088784446257811\n",
      "Current overlap =  0.11150795848291616\n",
      "Current overlap =  0.11400305776557697\n",
      "Current overlap =  0.11693223459818802\n",
      "Current overlap =  0.11709267679509576\n",
      "Current overlap =  0.11773532314027926\n",
      "Current overlap =  0.1203194306507787\n",
      "Current overlap =  0.12074036472895366\n",
      "Current overlap =  0.12090489642432942\n",
      "Current overlap =  0.12116947323856463\n",
      "Current overlap =  0.12133352403752075\n",
      "Current overlap =  0.12199056640149106\n",
      "Current overlap =  0.12463160129733993\n",
      "Current overlap =  0.1295986637257654\n",
      "Current overlap =  0.12976877886923507\n",
      "Current overlap =  0.13044993172587036\n",
      "Current overlap =  0.1331849807259674\n",
      "Current overlap =  0.14405680786404654\n",
      "Current overlap =  0.14423584830607727\n",
      "Current overlap =  0.14495241205395534\n",
      "Current overlap =  0.14607659285119912\n",
      "Current overlap =  0.14625651797974198\n",
      "Current overlap =  0.14635425557598505\n",
      "Current overlap =  0.14653415548363338\n",
      "Current overlap =  0.14725409815264007\n",
      "Current overlap =  0.15013856486420757\n",
      "Current overlap =  0.1545903072672452\n",
      "Current overlap =  0.15477225251934468\n",
      "Current overlap =  0.15550015108205012\n",
      "Current overlap =  0.1584127831384851\n",
      "Current overlap =  0.17002521273283824\n",
      "Current overlap =  0.17202923872380424\n",
      "Current overlap =  0.21270492134894045\n",
      "Current overlap =  0.24768641954746212\n",
      "Current overlap =  0.25210785947456055\n",
      "Current overlap =  0.2610168907059351\n",
      "Current overlap =  0.27278040918898855\n",
      "Current overlap =  0.2919712201932692\n",
      "Current overlap =  0.32174871530711513\n",
      "Current overlap =  0.34275733934668823\n",
      "Current overlap =  0.3633840854009913\n",
      "Current overlap =  0.37141451348439863\n",
      "Current overlap =  0.3721316397835067\n",
      "Current overlap =  0.3785543270906733\n",
      "Current overlap =  0.3904139519017551\n",
      "Current overlap =  0.39829339607890896\n",
      "Current overlap =  0.40267843012451965\n",
      "Current overlap =  0.3947437459111921\n",
      "Current overlap =  0.40148237908443485\n",
      "Current overlap =  0.40248094461296907\n",
      "Current overlap =  0.4026446611703395\n",
      "Current overlap =  0.4026726160629266\n",
      "Current overlap =  0.4026774278956238\n",
      "Current overlap =  0.40267825732396634\n",
      "Current overlap =  0.4026784003298185\n",
      "Current overlap =  0.4026784249872108\n",
      "Current overlap =  0.4026784292387252\n",
      "Current overlap =  0.4026784299717877\n",
      "Current overlap =  0.40267843009818566\n",
      "Current overlap =  0.40267843011997895\n",
      "Current overlap =  0.40267843012373566\n",
      "Current overlap =  0.40267843012438537\n",
      "Current overlap =  0.4026784301244963\n",
      "Current overlap =  0.40267843012451515\n",
      "Current overlap =  0.4026784301245177\n",
      "Current overlap =  0.4026784301245189\n",
      "Current overlap =  0.40267843012451937\n",
      "Current overlap =  0.4026872667271374\n",
      "Current overlap =  0.4027223999383514\n",
      "Current overlap =  0.40285706133319005\n",
      "Current overlap =  0.4002836999625054\n",
      "Current overlap =  0.4039042381858419\n",
      "Current overlap =  0.395683174621836\n",
      "Current overlap =  0.403412338908327\n",
      "Current overlap =  0.40385673465197763\n",
      "Current overlap =  0.40389674954508403\n",
      "Current overlap =  0.4039027920918681\n",
      "Current overlap =  0.40390394414618924\n",
      "Current overlap =  0.40390417772571646\n",
      "Current overlap =  0.4039042257251098\n",
      "Current overlap =  0.4039042356164694\n",
      "Current overlap =  0.4039042376559902\n",
      "Current overlap =  0.403904238076575\n",
      "Current overlap =  0.4039042381633089\n",
      "Current overlap =  0.4039042381811939\n",
      "Current overlap =  0.4039042381848836\n",
      "Current overlap =  0.40390423818564464\n",
      "Current overlap =  0.40390423818580184\n",
      "Current overlap =  0.4039042381858339\n",
      "Current overlap =  0.40390423818584065\n",
      "Current overlap =  0.4039042381858412\n",
      "Current overlap =  0.40390423818584176\n",
      "Current overlap =  0.40390542391519374\n",
      "Current overlap =  0.40011591131962726\n",
      "Current overlap =  0.403206265311398\n",
      "Current overlap =  0.40377382361348335\n",
      "Current overlap =  0.4038802385757728\n",
      "Current overlap =  0.40390058532328516\n",
      "Current overlap =  0.40390449361079617\n",
      "Current overlap =  0.4039052450211035\n",
      "Current overlap =  0.403905389513533\n",
      "Current overlap =  0.40390541729965507\n",
      "Current overlap =  0.4039054226430058\n",
      "Current overlap =  0.4039054236705481\n",
      "Current overlap =  0.403905423868148\n",
      "Current overlap =  0.40390542390614687\n",
      "Current overlap =  0.4039054239134542\n",
      "Current overlap =  0.4039054239148592\n",
      "Current overlap =  0.40390542391512957\n",
      "Current overlap =  0.4039054239151819\n",
      "Current overlap =  0.40390542391519163\n",
      "Current overlap =  0.40390542391519335\n",
      "Current overlap =  0.40390542391519363\n",
      "Current overlap =  0.40390654053101993\n",
      "Current overlap =  0.4000914638068538\n",
      "Current overlap =  0.4032053224256811\n",
      "Current overlap =  0.4037746811123384\n",
      "Current overlap =  0.40388130721320686\n",
      "Current overlap =  0.4039016920731116\n",
      "Current overlap =  0.4039056081686185\n",
      "Current overlap =  0.40390636120884216\n",
      "Current overlap =  0.4039065060407678\n",
      "Current overlap =  0.40390653389723774\n",
      "Current overlap =  0.4039065392550911\n",
      "Current overlap =  0.4039065402856102\n",
      "Current overlap =  0.40390654048381924\n",
      "Current overlap =  0.4039065405219417\n",
      "Current overlap =  0.40390654052927427\n",
      "Current overlap =  0.40390654053068575\n",
      "Current overlap =  0.40390654053095626\n",
      "Current overlap =  0.4039065405310086\n",
      "Current overlap =  0.4039065405310185\n",
      "Current overlap =  0.4039065405310203\n",
      "Current overlap =  0.4039065405310192\n",
      "Current overlap =  0.4039075804475693\n",
      "Current overlap =  0.4000192324300191\n",
      "Current overlap =  0.4031970145929148\n",
      "Current overlap =  0.40377421082939\n",
      "Current overlap =  0.40388206945903893\n"
     ]
    }
   ],
   "source": [
    "state = cavity_qed_systems.ModulatedTavisCumming(0.01, 2000, [0,1,-1.632], 1.0, 1.0)\n",
    "delta = ppulse.DirectParameterizedPulse(10, 1000, [-4, 4])\n",
    "plt.plot(delta.state())\n",
    "optimize_overlap(state, targetMPS, delta)"
   ]
  },
  {
   "cell_type": "code",
   "execution_count": null,
   "metadata": {},
   "outputs": [],
   "source": []
  }
 ],
 "metadata": {
  "kernelspec": {
   "display_name": "Python 3",
   "language": "python",
   "name": "python3"
  },
  "language_info": {
   "codemirror_mode": {
    "name": "ipython",
    "version": 3
   },
   "file_extension": ".py",
   "mimetype": "text/x-python",
   "name": "python",
   "nbconvert_exporter": "python",
   "pygments_lexer": "ipython3",
   "version": "3.8.3"
  }
 },
 "nbformat": 4,
 "nbformat_minor": 4
}
